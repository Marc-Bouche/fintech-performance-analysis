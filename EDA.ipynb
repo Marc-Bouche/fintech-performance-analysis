{
 "cells": [
  {
   "cell_type": "markdown",
   "id": "5897a42d-1077-4711-8ca5-c20bab7fc04b",
   "metadata": {},
   "source": [
    "# EDA"
   ]
  },
  {
   "cell_type": "code",
   "execution_count": 4,
   "id": "8f827db1-e3db-453f-91f9-2cec82daf149",
   "metadata": {},
   "outputs": [],
   "source": [
    "from sqlalchemy import create_engine"
   ]
  },
  {
   "cell_type": "raw",
   "id": "cd99e375-e331-4f57-98fb-d750b9f8a3f2",
   "metadata": {},
   "source": [
    "# Replace with your actual MySQL connection details\n",
    "username = 'root'\n",
    "password = '*************'\n",
    "host = 'localhost'   # or the IP address of your MySQL server\n",
    "port = '3306'        # default MySQL port\n",
    "database = 'fintech_analysis'\n",
    "\n",
    "# Create a connection string\n",
    "connection_string = f'mysql+pymysql://{username}:{password}@{host}:{port}/{database}'\n",
    "\n",
    "# Create an SQLAlchemy engine\n",
    "engine = create_engine(connection_string)"
   ]
  },
  {
   "cell_type": "raw",
   "id": "c5cc1cf5-6129-4ab1-a7f6-824c2c1755cf",
   "metadata": {},
   "source": [
    "# Export the DataFrame to MySQL\n",
    "df_merged.to_sql('df_merged', con=engine, index=False, if_exists='replace')"
   ]
  },
  {
   "cell_type": "code",
   "execution_count": null,
   "id": "3995cb77-f28b-4b4c-94d7-221871902519",
   "metadata": {},
   "outputs": [],
   "source": []
  }
 ],
 "metadata": {
  "kernelspec": {
   "display_name": "Python 3 (ipykernel)",
   "language": "python",
   "name": "python3"
  },
  "language_info": {
   "codemirror_mode": {
    "name": "ipython",
    "version": 3
   },
   "file_extension": ".py",
   "mimetype": "text/x-python",
   "name": "python",
   "nbconvert_exporter": "python",
   "pygments_lexer": "ipython3",
   "version": "3.12.2"
  }
 },
 "nbformat": 4,
 "nbformat_minor": 5
}
